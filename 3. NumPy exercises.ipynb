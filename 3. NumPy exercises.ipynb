{
  "cells": [
    {
      "cell_type": "markdown",
      "metadata": {
        "id": "view-in-github",
        "colab_type": "text"
      },
      "source": [
        "<a href=\"https://colab.research.google.com/github/Kimeudan05/freecodecamp-intro-to-numpy/blob/master/3.%20NumPy%20exercises.ipynb\" target=\"_parent\"><img src=\"https://colab.research.google.com/assets/colab-badge.svg\" alt=\"Open In Colab\"/></a>"
      ]
    },
    {
      "cell_type": "markdown",
      "metadata": {
        "id": "fGQwUewKvrHJ"
      },
      "source": [
        "![rmotr](https://user-images.githubusercontent.com/7065401/52071918-bda15380-2562-11e9-828c-7f95297e4a82.png)\n",
        "<hr style=\"margin-bottom: 40px;\">\n",
        "\n",
        "# NumPy exercises\n"
      ]
    },
    {
      "cell_type": "code",
      "execution_count": 1,
      "metadata": {
        "id": "hyhesayBvrHM",
        "outputId": "7e4559b3-0de5-4a5c-b46b-d3ee9f206e96",
        "colab": {
          "base_uri": "https://localhost:8080/"
        }
      },
      "outputs": [
        {
          "output_type": "stream",
          "name": "stdout",
          "text": [
            "2.0.2\n"
          ]
        }
      ],
      "source": [
        "# Import the numpy package under the name np\n",
        "import numpy as np\n",
        "\n",
        "# Print the numpy version and the configuration\n",
        "print(np.__version__)"
      ]
    },
    {
      "cell_type": "markdown",
      "metadata": {
        "id": "NWB2TV9avrHP"
      },
      "source": [
        "![purple-divider](https://user-images.githubusercontent.com/7065401/52071927-c1cd7100-2562-11e9-908a-dde91ba14e59.png)\n",
        "\n",
        "## Array creation"
      ]
    },
    {
      "cell_type": "markdown",
      "metadata": {
        "id": "ZiSnC8qDvrHQ"
      },
      "source": [
        "### Create a numpy array of size 10, filled with zeros."
      ]
    },
    {
      "cell_type": "code",
      "execution_count": 2,
      "metadata": {
        "id": "aJWTTh10vrHQ",
        "outputId": "22835820-0066-4478-ba61-36010c7f5004",
        "colab": {
          "base_uri": "https://localhost:8080/"
        }
      },
      "outputs": [
        {
          "output_type": "execute_result",
          "data": {
            "text/plain": [
              "array([0., 0., 0., 0., 0., 0., 0., 0., 0., 0.])"
            ]
          },
          "metadata": {},
          "execution_count": 2
        }
      ],
      "source": [
        "# your code goes here\n",
        "np.zeros(10)"
      ]
    },
    {
      "cell_type": "code",
      "execution_count": null,
      "metadata": {
        "cell_type": "solution",
        "id": "S2wVL9KovrHR"
      },
      "outputs": [],
      "source": [
        "#np.array([0] * 10)\n",
        "np.zeros(10)"
      ]
    },
    {
      "cell_type": "markdown",
      "metadata": {
        "id": "V8FGBpzUvrHS"
      },
      "source": [
        "![green-divider](https://user-images.githubusercontent.com/7065401/52071924-c003ad80-2562-11e9-8297-1c6595f8a7ff.png)\n",
        "\n",
        "### Create a numpy array with values ranging from 10 to 49"
      ]
    },
    {
      "cell_type": "code",
      "execution_count": 3,
      "metadata": {
        "id": "QgZaI3HCvrHT",
        "outputId": "62329119-53aa-4d63-c863-5162f5dcb32b",
        "colab": {
          "base_uri": "https://localhost:8080/"
        }
      },
      "outputs": [
        {
          "output_type": "execute_result",
          "data": {
            "text/plain": [
              "array([10, 11, 12, 13, 14, 15, 16, 17, 18, 19, 20, 21, 22, 23, 24, 25, 26,\n",
              "       27, 28, 29, 30, 31, 32, 33, 34, 35, 36, 37, 38, 39, 40, 41, 42, 43,\n",
              "       44, 45, 46, 47, 48, 49])"
            ]
          },
          "metadata": {},
          "execution_count": 3
        }
      ],
      "source": [
        "# your code goes here\n",
        "np.arange(10,50)"
      ]
    },
    {
      "cell_type": "code",
      "execution_count": null,
      "metadata": {
        "cell_type": "solution",
        "id": "J7v4jDtqvrHU"
      },
      "outputs": [],
      "source": [
        "np.arange(10,50)"
      ]
    },
    {
      "cell_type": "markdown",
      "metadata": {
        "id": "eFWvPDBMvrHV"
      },
      "source": [
        "![green-divider](https://user-images.githubusercontent.com/7065401/52071924-c003ad80-2562-11e9-8297-1c6595f8a7ff.png)\n",
        "\n",
        "### Create a numpy matrix of 2*2 integers, filled with ones."
      ]
    },
    {
      "cell_type": "code",
      "execution_count": 6,
      "metadata": {
        "id": "-iczqWB5vrHV",
        "outputId": "b7992a14-8fc8-4f52-f2d6-882085d40991",
        "colab": {
          "base_uri": "https://localhost:8080/"
        }
      },
      "outputs": [
        {
          "output_type": "execute_result",
          "data": {
            "text/plain": [
              "array([[1, 1],\n",
              "       [1, 1]])"
            ]
          },
          "metadata": {},
          "execution_count": 6
        }
      ],
      "source": [
        "# your code goes here\n",
        "np.ones((2,2),dtype=int)"
      ]
    },
    {
      "cell_type": "code",
      "execution_count": null,
      "metadata": {
        "cell_type": "solution",
        "id": "iMCHgoWfvrHW"
      },
      "outputs": [],
      "source": [
        "np.ones([2,2], dtype=np.int)"
      ]
    },
    {
      "cell_type": "markdown",
      "metadata": {
        "id": "qUGG2BMrvrHW"
      },
      "source": [
        "![green-divider](https://user-images.githubusercontent.com/7065401/52071924-c003ad80-2562-11e9-8297-1c6595f8a7ff.png)\n",
        "\n",
        "### Create a numpy matrix of 3*2 float numbers, filled with ones."
      ]
    },
    {
      "cell_type": "code",
      "execution_count": 9,
      "metadata": {
        "id": "agrAp8-ovrHX",
        "outputId": "520164ea-f637-4f6d-f226-04ddc23fa870",
        "colab": {
          "base_uri": "https://localhost:8080/"
        }
      },
      "outputs": [
        {
          "output_type": "execute_result",
          "data": {
            "text/plain": [
              "array([[1., 1.],\n",
              "       [1., 1.],\n",
              "       [1., 1.]])"
            ]
          },
          "metadata": {},
          "execution_count": 9
        }
      ],
      "source": [
        "# your code goes here\n",
        "np.ones((3,2),dtype=float)"
      ]
    },
    {
      "cell_type": "code",
      "execution_count": null,
      "metadata": {
        "cell_type": "solution",
        "id": "IM-LiTMqvrHX"
      },
      "outputs": [],
      "source": [
        "np.ones([3,2], dtype=np.float)"
      ]
    },
    {
      "cell_type": "markdown",
      "metadata": {
        "id": "V-lJTFxYvrHX"
      },
      "source": [
        "![green-divider](https://user-images.githubusercontent.com/7065401/52071924-c003ad80-2562-11e9-8297-1c6595f8a7ff.png)\n",
        "\n",
        "### Given the X numpy array, create a new numpy array with the same shape and type as X, filled with ones."
      ]
    },
    {
      "cell_type": "code",
      "execution_count": 17,
      "metadata": {
        "id": "A9X1AHckvrHX",
        "outputId": "e3d239cd-b718-49ec-d35d-9501d7edece6",
        "colab": {
          "base_uri": "https://localhost:8080/"
        }
      },
      "outputs": [
        {
          "output_type": "execute_result",
          "data": {
            "text/plain": [
              "array([[1, 1, 1, 1],\n",
              "       [1, 1, 1, 1],\n",
              "       [1, 1, 1, 1],\n",
              "       [1, 1, 1, 1],\n",
              "       [1, 1, 1, 1],\n",
              "       [1, 1, 1, 1],\n",
              "       [1, 1, 1, 1],\n",
              "       [1, 1, 1, 1],\n",
              "       [1, 1, 1, 1],\n",
              "       [1, 1, 1, 1]])"
            ]
          },
          "metadata": {},
          "execution_count": 17
        }
      ],
      "source": [
        "# your code goes here\n",
        "x= np.arange(10,50,dtype=int)\n",
        "x= x.reshape(10,4)\n",
        "np.ones_like(x)"
      ]
    },
    {
      "cell_type": "code",
      "execution_count": null,
      "metadata": {
        "cell_type": "solution",
        "id": "Tu5pwHfxvrHX"
      },
      "outputs": [],
      "source": [
        "X = np.arange(4, dtype=np.int)\n",
        "\n",
        "np.ones_like(X)"
      ]
    },
    {
      "cell_type": "markdown",
      "metadata": {
        "id": "E1r7oRuDvrHY"
      },
      "source": [
        "![green-divider](https://user-images.githubusercontent.com/7065401/52071924-c003ad80-2562-11e9-8297-1c6595f8a7ff.png)\n",
        "\n",
        "### Given the X numpy matrix, create a new numpy matrix with the same shape and type as X, filled with zeros."
      ]
    },
    {
      "cell_type": "code",
      "execution_count": 34,
      "metadata": {
        "id": "ERRadDaZvrHY",
        "outputId": "a6cd4619-848f-4a25-ca62-048341fea0ac",
        "colab": {
          "base_uri": "https://localhost:8080/"
        }
      },
      "outputs": [
        {
          "output_type": "execute_result",
          "data": {
            "text/plain": [
              "array([[0, 0, 0],\n",
              "       [0, 0, 0]])"
            ]
          },
          "metadata": {},
          "execution_count": 34
        }
      ],
      "source": [
        "# your code goes here\n",
        "X = np.array([[1,2,3],[4,5,6]])\n",
        "np.zeros_like(X)"
      ]
    },
    {
      "cell_type": "code",
      "execution_count": null,
      "metadata": {
        "cell_type": "solution",
        "id": "9lqhO7nKvrHY"
      },
      "outputs": [],
      "source": [
        "X = np.array([[1,2,3], [4,5,6]], dtype=np.int)\n",
        "\n",
        "np.zeros_like(X)"
      ]
    },
    {
      "cell_type": "markdown",
      "metadata": {
        "id": "nQ5i4IqLvrHY"
      },
      "source": [
        "![green-divider](https://user-images.githubusercontent.com/7065401/52071924-c003ad80-2562-11e9-8297-1c6595f8a7ff.png)\n",
        "\n",
        "### Create a numpy matrix of 4*4 integers, filled with fives."
      ]
    },
    {
      "cell_type": "code",
      "execution_count": 42,
      "metadata": {
        "id": "ult4kJ2yvrHY",
        "outputId": "ce75e4ae-9392-4bfa-f6af-e2d0670ac685",
        "colab": {
          "base_uri": "https://localhost:8080/"
        }
      },
      "outputs": [
        {
          "output_type": "execute_result",
          "data": {
            "text/plain": [
              "array([[5, 5, 5, 5],\n",
              "       [5, 5, 5, 5],\n",
              "       [5, 5, 5, 5],\n",
              "       [5, 5, 5, 5]])"
            ]
          },
          "metadata": {},
          "execution_count": 42
        }
      ],
      "source": [
        "# your code goes here\n",
        "arr = np.ones((4,4),dtype=int)\n",
        "arr*5\n"
      ]
    },
    {
      "cell_type": "code",
      "execution_count": null,
      "metadata": {
        "cell_type": "solution",
        "id": "Vjc94wmmvrHY"
      },
      "outputs": [],
      "source": [
        "np.ones([4,4], dtype=np.int) * 5"
      ]
    },
    {
      "cell_type": "markdown",
      "metadata": {
        "id": "6B7IcT7ivrHY"
      },
      "source": [
        "![green-divider](https://user-images.githubusercontent.com/7065401/52071924-c003ad80-2562-11e9-8297-1c6595f8a7ff.png)\n",
        "\n",
        "### Given the X numpy matrix, create a new numpy matrix with the same shape and type as X, filled with sevens."
      ]
    },
    {
      "cell_type": "code",
      "execution_count": 65,
      "metadata": {
        "id": "qalLqEeXvrHY",
        "outputId": "4d5e0bb4-106d-4fc9-fed9-a91da55fc922",
        "colab": {
          "base_uri": "https://localhost:8080/"
        }
      },
      "outputs": [
        {
          "output_type": "execute_result",
          "data": {
            "text/plain": [
              "array([[[7, 7, 7],\n",
              "        [7, 7, 7]],\n",
              "\n",
              "       [[7, 7, 7],\n",
              "        [7, 7, 7]]])"
            ]
          },
          "metadata": {},
          "execution_count": 65
        }
      ],
      "source": [
        "# your code goes here\n",
        "X = np.array([[[1,2,3],[4,5,6]],[[7,8,9],[2,3,5]]])\n",
        "X.ndim\n",
        "# np.ones_like(X,dtype=int)*7\n",
        "# np.ones(X.shape,dtype=int)*7\n",
        "np.full(X.shape,7,dtype=int)\n"
      ]
    },
    {
      "cell_type": "code",
      "execution_count": 59,
      "metadata": {
        "cell_type": "solution",
        "id": "d7ILOymwvrHZ",
        "outputId": "d53d366c-4c73-4b72-b063-3e5f0e741688",
        "colab": {
          "base_uri": "https://localhost:8080/"
        }
      },
      "outputs": [
        {
          "output_type": "execute_result",
          "data": {
            "text/plain": [
              "array([[7, 7],\n",
              "       [7, 7]])"
            ]
          },
          "metadata": {},
          "execution_count": 59
        }
      ],
      "source": [
        "X = np.array([[2,3], [6,2]], dtype=int)\n",
        "\n",
        "np.ones_like(X) * 7"
      ]
    },
    {
      "cell_type": "markdown",
      "metadata": {
        "id": "gnrobUYUvrHZ"
      },
      "source": [
        "![green-divider](https://user-images.githubusercontent.com/7065401/52071924-c003ad80-2562-11e9-8297-1c6595f8a7ff.png)\n",
        "\n",
        "### Create a 3*3 identity numpy matrix with ones on the diagonal and zeros elsewhere."
      ]
    },
    {
      "cell_type": "code",
      "execution_count": 66,
      "metadata": {
        "id": "l6bEzGTJvrHZ",
        "outputId": "2ddeb746-6a20-4922-8acb-d1b377209eed",
        "colab": {
          "base_uri": "https://localhost:8080/"
        }
      },
      "outputs": [
        {
          "output_type": "execute_result",
          "data": {
            "text/plain": [
              "array([[1., 0., 0.],\n",
              "       [0., 1., 0.],\n",
              "       [0., 0., 1.]])"
            ]
          },
          "metadata": {},
          "execution_count": 66
        }
      ],
      "source": [
        "# your code goes here\n",
        "\n",
        "np.identity(3)"
      ]
    },
    {
      "cell_type": "code",
      "execution_count": 67,
      "metadata": {
        "cell_type": "solution",
        "id": "tDil2UtuvrHZ",
        "outputId": "8d1eec61-bdb1-481e-bf6f-fbc4726e55df",
        "colab": {
          "base_uri": "https://localhost:8080/"
        }
      },
      "outputs": [
        {
          "output_type": "execute_result",
          "data": {
            "text/plain": [
              "array([[1., 0., 0.],\n",
              "       [0., 1., 0.],\n",
              "       [0., 0., 1.]])"
            ]
          },
          "metadata": {},
          "execution_count": 67
        }
      ],
      "source": [
        "np.eye(3)\n",
        "# np.identity(3)"
      ]
    },
    {
      "cell_type": "markdown",
      "metadata": {
        "id": "VRcbbzO0vrHZ"
      },
      "source": [
        "![green-divider](https://user-images.githubusercontent.com/7065401/52071924-c003ad80-2562-11e9-8297-1c6595f8a7ff.png)\n",
        "\n",
        "### Create a numpy array, filled with 3 random integer values between 1 and 10."
      ]
    },
    {
      "cell_type": "code",
      "execution_count": 73,
      "metadata": {
        "id": "OaU54AS5vrHZ",
        "outputId": "1bfd9e1e-778a-4f16-8baf-fb4306e71f97",
        "colab": {
          "base_uri": "https://localhost:8080/"
        }
      },
      "outputs": [
        {
          "output_type": "execute_result",
          "data": {
            "text/plain": [
              "array([5, 9, 7])"
            ]
          },
          "metadata": {},
          "execution_count": 73
        }
      ],
      "source": [
        "# your code goes here\n",
        "np.random.randint(1,10,size=3)"
      ]
    },
    {
      "cell_type": "code",
      "execution_count": 78,
      "metadata": {
        "cell_type": "solution",
        "id": "a2hc5frvvrHa",
        "outputId": "339c2fde-eccc-4910-ab99-23bf1230cf94",
        "colab": {
          "base_uri": "https://localhost:8080/"
        }
      },
      "outputs": [
        {
          "output_type": "execute_result",
          "data": {
            "text/plain": [
              "array([5, 1, 2])"
            ]
          },
          "metadata": {},
          "execution_count": 78
        }
      ],
      "source": [
        "np.random.randint(10, size=3)"
      ]
    },
    {
      "cell_type": "markdown",
      "metadata": {
        "id": "vVapFBwIvrHa"
      },
      "source": [
        "![green-divider](https://user-images.githubusercontent.com/7065401/52071924-c003ad80-2562-11e9-8297-1c6595f8a7ff.png)\n",
        "\n",
        "### Create a 3\\*3\\*3 numpy matrix, filled with random float values."
      ]
    },
    {
      "cell_type": "code",
      "execution_count": 84,
      "metadata": {
        "id": "3gnAsiCjvrHa",
        "outputId": "97fd1766-631a-4c0c-d902-389f964903fa",
        "colab": {
          "base_uri": "https://localhost:8080/"
        }
      },
      "outputs": [
        {
          "output_type": "execute_result",
          "data": {
            "text/plain": [
              "array([[[0.62716068, 0.62268373, 0.44612089],\n",
              "        [0.94226368, 0.74747497, 0.9089491 ],\n",
              "        [0.91472171, 0.57104338, 0.61326473]],\n",
              "\n",
              "       [[0.68670887, 0.13421238, 0.12041707],\n",
              "        [0.17841998, 0.77131464, 0.499491  ],\n",
              "        [0.33520356, 0.06823496, 0.86241072]],\n",
              "\n",
              "       [[0.68239219, 0.20505879, 0.93794486],\n",
              "        [0.53628928, 0.78087148, 0.18191611],\n",
              "        [0.91216251, 0.07723341, 0.89022632]]])"
            ]
          },
          "metadata": {},
          "execution_count": 84
        }
      ],
      "source": [
        "# your code goes here\n",
        "np.random.random((3,3,3))"
      ]
    },
    {
      "cell_type": "code",
      "execution_count": 86,
      "metadata": {
        "cell_type": "solution",
        "id": "SJ3eRJcHvrHa",
        "outputId": "4ea10fe1-8c5b-40f5-a956-6fc91717c4b9",
        "colab": {
          "base_uri": "https://localhost:8080/"
        }
      },
      "outputs": [
        {
          "output_type": "execute_result",
          "data": {
            "text/plain": [
              "array([[[-1.12325318, -1.91375769, -0.33748315],\n",
              "        [ 0.31749192,  2.18361696, -2.01833639],\n",
              "        [-0.16993817, -0.04051588, -0.12041521]],\n",
              "\n",
              "       [[ 1.89265219, -0.22457508, -1.73089737],\n",
              "        [ 0.67845591,  0.7103971 , -0.80979017],\n",
              "        [-0.44327313,  0.94219565,  1.74122076]],\n",
              "\n",
              "       [[-0.07316535,  0.82194641, -0.6272979 ],\n",
              "        [ 0.3665517 , -1.33401065, -1.8940046 ],\n",
              "        [ 1.7367629 ,  0.53566401, -0.7061378 ]]])"
            ]
          },
          "metadata": {},
          "execution_count": 86
        }
      ],
      "source": [
        "#np.random.random((3,3,3))\n",
        "np.random.randn(3,3,3) # 0 to 1 floats"
      ]
    },
    {
      "cell_type": "markdown",
      "metadata": {
        "id": "usoc3LN5vrHb"
      },
      "source": [
        "![green-divider](https://user-images.githubusercontent.com/7065401/52071924-c003ad80-2562-11e9-8297-1c6595f8a7ff.png)\n",
        "\n",
        "### Given the X python list convert it to an Y numpy array"
      ]
    },
    {
      "cell_type": "code",
      "execution_count": 90,
      "metadata": {
        "id": "nNzjf0ZevrHb",
        "outputId": "9b3e2584-50cb-432e-e267-28c66e357704",
        "colab": {
          "base_uri": "https://localhost:8080/"
        }
      },
      "outputs": [
        {
          "output_type": "stream",
          "name": "stdout",
          "text": [
            "[34, 54, 24, 64] <class 'list'>\n",
            "[34 54 24 64] <class 'numpy.ndarray'>\n"
          ]
        }
      ],
      "source": [
        "# your code goes here\n",
        "x= [34,54,24,64]\n",
        "print(x,type(x))\n",
        "x= np.array(x)\n",
        "print(x, type(x))"
      ]
    },
    {
      "cell_type": "code",
      "execution_count": null,
      "metadata": {
        "cell_type": "solution",
        "id": "5Kdd_zzZvrHb"
      },
      "outputs": [],
      "source": [
        "X = [1, 2, 3]\n",
        "print(X, type(X))\n",
        "\n",
        "Y = np.array(X)\n",
        "print(Y, type(Y)) # different type"
      ]
    },
    {
      "cell_type": "markdown",
      "metadata": {
        "id": "GjIoDnrJvrHg"
      },
      "source": [
        "![green-divider](https://user-images.githubusercontent.com/7065401/52071924-c003ad80-2562-11e9-8297-1c6595f8a7ff.png)\n",
        "\n",
        "### Given the X numpy array, make a copy and store it on Y."
      ]
    },
    {
      "cell_type": "code",
      "execution_count": 96,
      "metadata": {
        "id": "LSreTAupvrHg",
        "outputId": "206a6b24-8055-4c39-df58-e708c3738780",
        "colab": {
          "base_uri": "https://localhost:8080/"
        }
      },
      "outputs": [
        {
          "output_type": "stream",
          "name": "stdout",
          "text": [
            "[1 4 5 6 3 9] 140016798154448\n",
            "[1 4 5 6 3 9] 140016797966160\n"
          ]
        }
      ],
      "source": [
        "# your code goes here\n",
        "X = np.array([1,4,5,6,3,9])\n",
        "Y = np.copy(X)\n",
        "print(X, id(X))\n",
        "print(Y, id(Y))"
      ]
    },
    {
      "cell_type": "code",
      "execution_count": null,
      "metadata": {
        "cell_type": "solution",
        "id": "YgVL7hpYvrHg"
      },
      "outputs": [],
      "source": [
        "X = np.array([5,2,3], dtype=np.int)\n",
        "print(X, id(X))\n",
        "\n",
        "Y = np.copy(X)\n",
        "print(Y, id(Y)) # different id"
      ]
    },
    {
      "cell_type": "markdown",
      "metadata": {
        "id": "SHhetk36vrHg"
      },
      "source": [
        "![green-divider](https://user-images.githubusercontent.com/7065401/52071924-c003ad80-2562-11e9-8297-1c6595f8a7ff.png)\n",
        "\n",
        "### Create a numpy array with numbers from 1 to 10"
      ]
    },
    {
      "cell_type": "code",
      "execution_count": 98,
      "metadata": {
        "id": "YZsxkJevvrHh",
        "outputId": "5289262e-657c-464b-9fe8-265a35bef479",
        "colab": {
          "base_uri": "https://localhost:8080/"
        }
      },
      "outputs": [
        {
          "output_type": "execute_result",
          "data": {
            "text/plain": [
              "array([ 1,  2,  3,  4,  5,  6,  7,  8,  9, 10])"
            ]
          },
          "metadata": {},
          "execution_count": 98
        }
      ],
      "source": [
        "# your code goes here\n",
        "np.arange(1,11)"
      ]
    },
    {
      "cell_type": "code",
      "execution_count": null,
      "metadata": {
        "cell_type": "solution",
        "id": "8BAuKBmsvrHh"
      },
      "outputs": [],
      "source": [
        "np.arange(1, 11)"
      ]
    },
    {
      "cell_type": "markdown",
      "metadata": {
        "id": "VE0PhLAOvrHh"
      },
      "source": [
        "![green-divider](https://user-images.githubusercontent.com/7065401/52071924-c003ad80-2562-11e9-8297-1c6595f8a7ff.png)\n",
        "\n",
        "### Create a numpy array with the odd numbers between 1 to 10"
      ]
    },
    {
      "cell_type": "code",
      "execution_count": 99,
      "metadata": {
        "id": "2mtJIx9fvrHh",
        "outputId": "49983731-5b2d-4ffb-8332-beee45d29547",
        "colab": {
          "base_uri": "https://localhost:8080/"
        }
      },
      "outputs": [
        {
          "output_type": "execute_result",
          "data": {
            "text/plain": [
              "array([1, 3, 5, 7, 9])"
            ]
          },
          "metadata": {},
          "execution_count": 99
        }
      ],
      "source": [
        "# your code goes here\n",
        "np.arange(1,11,2)"
      ]
    },
    {
      "cell_type": "code",
      "execution_count": null,
      "metadata": {
        "cell_type": "solution",
        "id": "sqYrRgIOvrHh"
      },
      "outputs": [],
      "source": [
        "np.arange(1, 11, 2)"
      ]
    },
    {
      "cell_type": "markdown",
      "metadata": {
        "id": "zhepNmO_vrHh"
      },
      "source": [
        "![green-divider](https://user-images.githubusercontent.com/7065401/52071924-c003ad80-2562-11e9-8297-1c6595f8a7ff.png)\n",
        "\n",
        "### Create a numpy array with numbers from 1 to 10, in descending order."
      ]
    },
    {
      "cell_type": "code",
      "execution_count": 104,
      "metadata": {
        "id": "WWFYTggBvrHi",
        "outputId": "0d74ba3f-675c-4edb-b4e8-378e09f777d7",
        "colab": {
          "base_uri": "https://localhost:8080/"
        }
      },
      "outputs": [
        {
          "output_type": "execute_result",
          "data": {
            "text/plain": [
              "array([10,  9,  8,  7,  6,  5,  4,  3,  2,  1])"
            ]
          },
          "metadata": {},
          "execution_count": 104
        }
      ],
      "source": [
        "# your code goes here\n",
        "# np.arange(10,0,-1)\n",
        "np.arange(1,11)[::-1]"
      ]
    },
    {
      "cell_type": "code",
      "execution_count": null,
      "metadata": {
        "cell_type": "solution",
        "id": "HaE61OUKvrHi"
      },
      "outputs": [],
      "source": [
        "np.arange(1, 11)[::-1]"
      ]
    },
    {
      "cell_type": "markdown",
      "metadata": {
        "id": "PRGxX5e3vrHj"
      },
      "source": [
        "![green-divider](https://user-images.githubusercontent.com/7065401/52071924-c003ad80-2562-11e9-8297-1c6595f8a7ff.png)\n",
        "\n",
        "### Create a 3*3 numpy matrix, filled with values ranging from 0 to 8"
      ]
    },
    {
      "cell_type": "code",
      "execution_count": 106,
      "metadata": {
        "id": "UVGBGETDvrHj",
        "outputId": "b77bdf4b-ba99-4171-9130-767a2b40729a",
        "colab": {
          "base_uri": "https://localhost:8080/"
        }
      },
      "outputs": [
        {
          "output_type": "execute_result",
          "data": {
            "text/plain": [
              "array([[0, 1, 2],\n",
              "       [3, 4, 5],\n",
              "       [6, 7, 8]])"
            ]
          },
          "metadata": {},
          "execution_count": 106
        }
      ],
      "source": [
        "# your code goes here\n",
        "np.arange(0,9).reshape(3,3)"
      ]
    },
    {
      "cell_type": "code",
      "execution_count": null,
      "metadata": {
        "cell_type": "solution",
        "id": "KOaxiBhUvrHl"
      },
      "outputs": [],
      "source": [
        "np.arange(9).reshape(3,3)"
      ]
    },
    {
      "cell_type": "markdown",
      "metadata": {
        "id": "GNzv0dxJvrHm"
      },
      "source": [
        "![green-divider](https://user-images.githubusercontent.com/7065401/52071924-c003ad80-2562-11e9-8297-1c6595f8a7ff.png)\n",
        "\n",
        "### Show the memory size of the given Z numpy matrix"
      ]
    },
    {
      "cell_type": "code",
      "execution_count": 110,
      "metadata": {
        "id": "68x_gKzNvrHm",
        "outputId": "1781ed53-d8f8-4298-d8fd-7c592f40f2f4",
        "colab": {
          "base_uri": "https://localhost:8080/"
        }
      },
      "outputs": [
        {
          "output_type": "stream",
          "name": "stdout",
          "text": [
            "72 bytes\n",
            "9\n",
            "8\n"
          ]
        }
      ],
      "source": [
        "# your code goes here\n",
        "Z = np.ones((3,3))\n",
        "print(\"%d bytes\" % (Z.size * Z.itemsize))\n"
      ]
    },
    {
      "cell_type": "code",
      "execution_count": 111,
      "metadata": {
        "cell_type": "solution",
        "scrolled": true,
        "id": "zXz1ZrcjvrHm",
        "outputId": "444f59be-1d7f-4424-9077-56770a718dbd",
        "colab": {
          "base_uri": "https://localhost:8080/"
        }
      },
      "outputs": [
        {
          "output_type": "stream",
          "name": "stdout",
          "text": [
            "800 bytes\n",
            "100\n",
            "8\n"
          ]
        }
      ],
      "source": [
        "Z = np.zeros((10,10))\n",
        "\n",
        "print(\"%d bytes\" % (Z.size * Z.itemsize))\n"
      ]
    },
    {
      "cell_type": "markdown",
      "metadata": {
        "id": "go6zeaPRvrHn"
      },
      "source": [
        "![purple-divider](https://user-images.githubusercontent.com/7065401/52071927-c1cd7100-2562-11e9-908a-dde91ba14e59.png)\n",
        "\n",
        "## Array indexation\n"
      ]
    },
    {
      "cell_type": "markdown",
      "metadata": {
        "id": "E2AGDPpvvrHn"
      },
      "source": [
        "### Given the X numpy array, show it's first element"
      ]
    },
    {
      "cell_type": "code",
      "execution_count": 114,
      "metadata": {
        "id": "5LaJdlZ6vrHn",
        "outputId": "914494fd-9cb8-4c34-e93b-81fb56a39bc9",
        "colab": {
          "base_uri": "https://localhost:8080/"
        }
      },
      "outputs": [
        {
          "output_type": "execute_result",
          "data": {
            "text/plain": [
              "np.int64(1)"
            ]
          },
          "metadata": {},
          "execution_count": 114
        }
      ],
      "source": [
        "# your code goes here\n",
        "X=np.array([1,2,3,5,6])\n",
        "X[0]"
      ]
    },
    {
      "cell_type": "code",
      "execution_count": null,
      "metadata": {
        "cell_type": "solution",
        "id": "wKZbS5lSvrHo"
      },
      "outputs": [],
      "source": [
        "X = np.array(['A','B','C','D','E'])\n",
        "\n",
        "X[0]"
      ]
    },
    {
      "cell_type": "markdown",
      "metadata": {
        "id": "7VOxJsigvrHo"
      },
      "source": [
        "![green-divider](https://user-images.githubusercontent.com/7065401/52071924-c003ad80-2562-11e9-8297-1c6595f8a7ff.png)\n",
        "\n",
        "### Given the X numpy array, show it's last element"
      ]
    },
    {
      "cell_type": "code",
      "execution_count": 125,
      "metadata": {
        "id": "DoYqovRsvrHo",
        "outputId": "47040b0b-6f6e-4d50-c5bf-a4bca3185487",
        "colab": {
          "base_uri": "https://localhost:8080/",
          "height": 34
        }
      },
      "outputs": [
        {
          "output_type": "execute_result",
          "data": {
            "text/plain": [
              "np.str_('E')"
            ],
            "application/vnd.google.colaboratory.intrinsic+json": {
              "type": "string"
            }
          },
          "metadata": {},
          "execution_count": 125
        }
      ],
      "source": [
        "# your code goes here\n",
        "X = np.array(['A','B','C','D','E'])\n",
        "X[-1]\n",
        "# X[len(X)-1]"
      ]
    },
    {
      "cell_type": "code",
      "execution_count": null,
      "metadata": {
        "cell_type": "solution",
        "id": "5naw9V5_vrHo"
      },
      "outputs": [],
      "source": [
        "X = np.array(['A','B','C','D','E'])\n",
        "\n",
        "#X[len(X)-1]\n",
        "X[-1]"
      ]
    },
    {
      "cell_type": "markdown",
      "metadata": {
        "id": "obRStIFavrHo"
      },
      "source": [
        "![green-divider](https://user-images.githubusercontent.com/7065401/52071924-c003ad80-2562-11e9-8297-1c6595f8a7ff.png)\n",
        "\n",
        "### Given the X numpy array, show it's first three elements"
      ]
    },
    {
      "cell_type": "code",
      "execution_count": 126,
      "metadata": {
        "id": "l23653YtvrHo",
        "outputId": "3c1154b7-7afb-460d-a2eb-d5f7495246fe",
        "colab": {
          "base_uri": "https://localhost:8080/"
        }
      },
      "outputs": [
        {
          "output_type": "execute_result",
          "data": {
            "text/plain": [
              "array(['A', 'B', 'C'], dtype='<U1')"
            ]
          },
          "metadata": {},
          "execution_count": 126
        }
      ],
      "source": [
        "# your code goes here\n",
        "X = np.array(['A','B','C','D','E'])\n",
        "X[:3]"
      ]
    },
    {
      "cell_type": "code",
      "execution_count": null,
      "metadata": {
        "cell_type": "solution",
        "id": "X9Lzqo-RvrHp"
      },
      "outputs": [],
      "source": [
        "X = np.array(['A','B','C','D','E'])\n",
        "\n",
        "X[0:3] # remember! elements start at zero index"
      ]
    },
    {
      "cell_type": "markdown",
      "metadata": {
        "id": "0vq1G5iDvrHp"
      },
      "source": [
        "![green-divider](https://user-images.githubusercontent.com/7065401/52071924-c003ad80-2562-11e9-8297-1c6595f8a7ff.png)\n",
        "\n",
        "### Given the X numpy array, show all middle elements"
      ]
    },
    {
      "cell_type": "code",
      "execution_count": 130,
      "metadata": {
        "id": "cbVwnX98vrHp",
        "outputId": "b43f46b4-5615-4ebc-bfc8-f120afa72b7d",
        "colab": {
          "base_uri": "https://localhost:8080/"
        }
      },
      "outputs": [
        {
          "output_type": "execute_result",
          "data": {
            "text/plain": [
              "array(['B', 'C', 'D'], dtype='<U1')"
            ]
          },
          "metadata": {},
          "execution_count": 130
        }
      ],
      "source": [
        "# your code goes here\n",
        "X = np.array(['A','B','C','D','E'])\n",
        "X[1:-1]"
      ]
    },
    {
      "cell_type": "code",
      "execution_count": 129,
      "metadata": {
        "cell_type": "solution",
        "id": "Gphu5b47vrHp",
        "outputId": "b31d8a44-84d1-4933-9c1f-a308fb6361e1",
        "colab": {
          "base_uri": "https://localhost:8080/"
        }
      },
      "outputs": [
        {
          "output_type": "execute_result",
          "data": {
            "text/plain": [
              "array(['B', 'C', 'D'], dtype='<U1')"
            ]
          },
          "metadata": {},
          "execution_count": 129
        }
      ],
      "source": [
        "X = np.array(['A','B','C','D','E'])\n",
        "\n",
        "X[1:-1]"
      ]
    },
    {
      "cell_type": "markdown",
      "metadata": {
        "id": "9TkOgPQpvrHq"
      },
      "source": [
        "![green-divider](https://user-images.githubusercontent.com/7065401/52071924-c003ad80-2562-11e9-8297-1c6595f8a7ff.png)\n",
        "\n",
        "### Given the X numpy array, show the elements in reverse position"
      ]
    },
    {
      "cell_type": "code",
      "execution_count": 131,
      "metadata": {
        "id": "1qI6sjFcvrHq",
        "outputId": "3d5b4727-b48b-4688-80e8-a29d15ff4e66",
        "colab": {
          "base_uri": "https://localhost:8080/"
        }
      },
      "outputs": [
        {
          "output_type": "execute_result",
          "data": {
            "text/plain": [
              "array(['E', 'D', 'C', 'B', 'A'], dtype='<U1')"
            ]
          },
          "metadata": {},
          "execution_count": 131
        }
      ],
      "source": [
        "# your code goes here\n",
        "X = np.array(['A','B','C','D','E'])\n",
        "X[::-1]"
      ]
    },
    {
      "cell_type": "code",
      "execution_count": null,
      "metadata": {
        "cell_type": "solution",
        "id": "6BOL36CjvrHq"
      },
      "outputs": [],
      "source": [
        "X = np.array(['A','B','C','D','E'])\n",
        "\n",
        "X[::-1]"
      ]
    },
    {
      "cell_type": "markdown",
      "metadata": {
        "id": "xPJ4xMRsvrHq"
      },
      "source": [
        "![green-divider](https://user-images.githubusercontent.com/7065401/52071924-c003ad80-2562-11e9-8297-1c6595f8a7ff.png)\n",
        "\n",
        "### Given the X numpy array, show the elements in an odd position"
      ]
    },
    {
      "cell_type": "code",
      "execution_count": 134,
      "metadata": {
        "id": "YI7tUmsjvrHq",
        "outputId": "8494496a-c98f-4975-bbe5-7b5feea35e57",
        "colab": {
          "base_uri": "https://localhost:8080/"
        }
      },
      "outputs": [
        {
          "output_type": "execute_result",
          "data": {
            "text/plain": [
              "array(['A', 'C', 'E'], dtype='<U1')"
            ]
          },
          "metadata": {},
          "execution_count": 134
        }
      ],
      "source": [
        "# your code goes here\n",
        "X = np.array(['A','B','C','D','E'])\n",
        "X[::2]"
      ]
    },
    {
      "cell_type": "code",
      "execution_count": null,
      "metadata": {
        "cell_type": "solution",
        "id": "s2krjHFavrHr"
      },
      "outputs": [],
      "source": [
        "X = np.array(['A','B','C','D','E'])\n",
        "\n",
        "#X[[0, 2, -1]]\n",
        "X[::2]"
      ]
    },
    {
      "cell_type": "markdown",
      "metadata": {
        "id": "b1tQwTfvvrHr"
      },
      "source": [
        "![green-divider](https://user-images.githubusercontent.com/7065401/52071924-c003ad80-2562-11e9-8297-1c6595f8a7ff.png)\n",
        "\n",
        "### Given the X numpy matrix, show the first row elements"
      ]
    },
    {
      "cell_type": "code",
      "execution_count": 141,
      "metadata": {
        "id": "Ddja4puDvrHs",
        "outputId": "a60e8129-f7ee-429a-a345-248e281526af",
        "colab": {
          "base_uri": "https://localhost:8080/"
        }
      },
      "outputs": [
        {
          "output_type": "execute_result",
          "data": {
            "text/plain": [
              "array([2, 3, 4])"
            ]
          },
          "metadata": {},
          "execution_count": 141
        }
      ],
      "source": [
        "# your code goes here\n",
        "X = np.array(\n",
        "    [[2,3,4],[34,5,2],\n",
        "    [34,54,23],[65,24,63]]\n",
        "\n",
        ")\n",
        "X[0]"
      ]
    },
    {
      "cell_type": "code",
      "execution_count": null,
      "metadata": {
        "cell_type": "solution",
        "id": "JUvCgYOLvrHs"
      },
      "outputs": [],
      "source": [
        "X = np.array([\n",
        "    [1,   2,  3,  4],\n",
        "    [5,   6,  7,  8],\n",
        "    [9,  10, 11, 12],\n",
        "    [13, 14, 15, 16]\n",
        "])\n",
        "\n",
        "X[0]"
      ]
    },
    {
      "cell_type": "markdown",
      "metadata": {
        "id": "gouW96HsvrHs"
      },
      "source": [
        "![green-divider](https://user-images.githubusercontent.com/7065401/52071924-c003ad80-2562-11e9-8297-1c6595f8a7ff.png)\n",
        "\n",
        "### Given the X numpy matrix, show the last row elements"
      ]
    },
    {
      "cell_type": "code",
      "execution_count": 143,
      "metadata": {
        "id": "xZtVn-FhvrHs",
        "outputId": "9163ce5f-688d-4c73-c962-14b280a0e6bd",
        "colab": {
          "base_uri": "https://localhost:8080/"
        }
      },
      "outputs": [
        {
          "output_type": "execute_result",
          "data": {
            "text/plain": [
              "array([65, 24, 63])"
            ]
          },
          "metadata": {},
          "execution_count": 143
        }
      ],
      "source": [
        "# your code goes here\n",
        "X = np.array(\n",
        "    [[2,3,4],[34,5,2],\n",
        "    [34,54,23],[65,24,63]]\n",
        "\n",
        ")\n",
        "X[-1]"
      ]
    },
    {
      "cell_type": "code",
      "execution_count": null,
      "metadata": {
        "cell_type": "solution",
        "id": "AJcpznQ3vrHt"
      },
      "outputs": [],
      "source": [
        "X = np.array([\n",
        "    [1,   2,  3,  4],\n",
        "    [5,   6,  7,  8],\n",
        "    [9,  10, 11, 12],\n",
        "    [13, 14, 15, 16]\n",
        "])\n",
        "\n",
        "X[-1]"
      ]
    },
    {
      "cell_type": "markdown",
      "metadata": {
        "id": "_q2h8kofvrHt"
      },
      "source": [
        "![green-divider](https://user-images.githubusercontent.com/7065401/52071924-c003ad80-2562-11e9-8297-1c6595f8a7ff.png)\n",
        "\n",
        "### Given the X numpy matrix, show the first element on first row"
      ]
    },
    {
      "cell_type": "code",
      "execution_count": 144,
      "metadata": {
        "id": "RKDXlw4dvrHt",
        "outputId": "9eff31b8-d79d-490b-cd56-9c06963c8904",
        "colab": {
          "base_uri": "https://localhost:8080/"
        }
      },
      "outputs": [
        {
          "output_type": "execute_result",
          "data": {
            "text/plain": [
              "np.int64(2)"
            ]
          },
          "metadata": {},
          "execution_count": 144
        }
      ],
      "source": [
        "# your code goes here\n",
        "X = np.array(\n",
        "    [[2,3,4],[34,5,2],\n",
        "    [34,54,23],[65,24,63]]\n",
        "\n",
        ")\n",
        "X[0,0]"
      ]
    },
    {
      "cell_type": "code",
      "execution_count": null,
      "metadata": {
        "cell_type": "solution",
        "id": "xkYF1fyWvrH0"
      },
      "outputs": [],
      "source": [
        "X = np.array([\n",
        "    [1,   2,  3,  4],\n",
        "    [5,   6,  7,  8],\n",
        "    [9,  10, 11, 12],\n",
        "    [13, 14, 15, 16]\n",
        "])\n",
        "\n",
        "#X[0][0]\n",
        "X[0, 0]"
      ]
    },
    {
      "cell_type": "markdown",
      "metadata": {
        "id": "IxUgIo6UvrH1"
      },
      "source": [
        "![green-divider](https://user-images.githubusercontent.com/7065401/52071924-c003ad80-2562-11e9-8297-1c6595f8a7ff.png)\n",
        "\n",
        "### Given the X numpy matrix, show the last element on last row"
      ]
    },
    {
      "cell_type": "code",
      "execution_count": 149,
      "metadata": {
        "id": "mwQbDEwOvrH1",
        "outputId": "3309771e-24c6-4d51-d194-cb589b2428ef",
        "colab": {
          "base_uri": "https://localhost:8080/"
        }
      },
      "outputs": [
        {
          "output_type": "execute_result",
          "data": {
            "text/plain": [
              "np.int64(63)"
            ]
          },
          "metadata": {},
          "execution_count": 149
        }
      ],
      "source": [
        "# your code goes here\n",
        "X = np.array(\n",
        "    [[2,3,4],[34,5,2],\n",
        "    [34,54,23],[65,24,63]]\n",
        "\n",
        ")\n",
        "X[-1,-1]"
      ]
    },
    {
      "cell_type": "code",
      "execution_count": null,
      "metadata": {
        "cell_type": "solution",
        "id": "wL7EwECJvrH2"
      },
      "outputs": [],
      "source": [
        "X = np.array([\n",
        "    [1,   2,  3,  4],\n",
        "    [5,   6,  7,  8],\n",
        "    [9,  10, 11, 12],\n",
        "    [13, 14, 15, 16]\n",
        "])\n",
        "\n",
        "#X[-1][-1]\n",
        "X[-1, -1]"
      ]
    },
    {
      "cell_type": "markdown",
      "metadata": {
        "id": "2EO0gytuvrH3"
      },
      "source": [
        "![green-divider](https://user-images.githubusercontent.com/7065401/52071924-c003ad80-2562-11e9-8297-1c6595f8a7ff.png)\n",
        "\n",
        "### Given the X numpy matrix, show the middle row elements"
      ]
    },
    {
      "cell_type": "code",
      "execution_count": 152,
      "metadata": {
        "id": "5qbOiqm9vrH3",
        "outputId": "ac650a99-0894-47d9-af8b-249ca90972ad",
        "colab": {
          "base_uri": "https://localhost:8080/"
        }
      },
      "outputs": [
        {
          "output_type": "execute_result",
          "data": {
            "text/plain": [
              "array([[ 5],\n",
              "       [54]])"
            ]
          },
          "metadata": {},
          "execution_count": 152
        }
      ],
      "source": [
        "# your code goes here\n",
        "X = np.array(\n",
        "    [[2,3,4],[34,5,2],\n",
        "    [34,54,23],[65,24,63]]\n",
        "\n",
        ")\n",
        "X[1:-1,1:-1]"
      ]
    },
    {
      "cell_type": "code",
      "execution_count": 151,
      "metadata": {
        "cell_type": "solution",
        "id": "D0VrLqPivrH3",
        "outputId": "0a155790-0276-4d26-a958-a0a89064f9cd",
        "colab": {
          "base_uri": "https://localhost:8080/"
        }
      },
      "outputs": [
        {
          "output_type": "execute_result",
          "data": {
            "text/plain": [
              "array([[ 6,  7],\n",
              "       [10, 11]])"
            ]
          },
          "metadata": {},
          "execution_count": 151
        }
      ],
      "source": [
        "X = np.array([\n",
        "    [1,   2,  3,  4],\n",
        "    [5,   6,  7,  8],\n",
        "    [9,  10, 11, 12],\n",
        "    [13, 14, 15, 16]\n",
        "])\n",
        "\n",
        "#X[1:-1][1:-1] wrong!\n",
        "X[1:-1, 1:-1]"
      ]
    },
    {
      "cell_type": "markdown",
      "metadata": {
        "id": "31bRufFJvrH4"
      },
      "source": [
        "![green-divider](https://user-images.githubusercontent.com/7065401/52071924-c003ad80-2562-11e9-8297-1c6595f8a7ff.png)\n",
        "\n",
        "### Given the X numpy matrix, show the first two elements on the first two rows"
      ]
    },
    {
      "cell_type": "code",
      "execution_count": 153,
      "metadata": {
        "id": "wmrP9c_uvrH4",
        "outputId": "829846ac-4c99-4640-93e3-31f6b78509e1",
        "colab": {
          "base_uri": "https://localhost:8080/"
        }
      },
      "outputs": [
        {
          "output_type": "execute_result",
          "data": {
            "text/plain": [
              "array([[ 2,  3],\n",
              "       [34,  5]])"
            ]
          },
          "metadata": {},
          "execution_count": 153
        }
      ],
      "source": [
        "# your code goes here\n",
        "X = np.array(\n",
        "    [[2,3,4],[34,5,2],\n",
        "    [34,54,23],[65,24,63]]\n",
        "\n",
        ")\n",
        "X[:2,:2]"
      ]
    },
    {
      "cell_type": "code",
      "execution_count": null,
      "metadata": {
        "cell_type": "solution",
        "id": "1gTebmikvrH4"
      },
      "outputs": [],
      "source": [
        "X = np.array([\n",
        "    [1,   2,  3,  4],\n",
        "    [5,   6,  7,  8],\n",
        "    [9,  10, 11, 12],\n",
        "    [13, 14, 15, 16]\n",
        "])\n",
        "\n",
        "#X[:2][:2] wrong!\n",
        "#X[0:2, 0:2]\n",
        "X[:2, :2]"
      ]
    },
    {
      "cell_type": "markdown",
      "metadata": {
        "id": "qOOcc3efvrH5"
      },
      "source": [
        "![green-divider](https://user-images.githubusercontent.com/7065401/52071924-c003ad80-2562-11e9-8297-1c6595f8a7ff.png)\n",
        "\n",
        "### Given the X numpy matrix, show the last two elements on the last two rows"
      ]
    },
    {
      "cell_type": "code",
      "execution_count": 158,
      "metadata": {
        "id": "M1gjYFYivrH5",
        "outputId": "70de7f4f-9047-43d4-c2e0-08519aeec053",
        "colab": {
          "base_uri": "https://localhost:8080/"
        }
      },
      "outputs": [
        {
          "output_type": "execute_result",
          "data": {
            "text/plain": [
              "array([[54, 23],\n",
              "       [24, 63]])"
            ]
          },
          "metadata": {},
          "execution_count": 158
        }
      ],
      "source": [
        "# your code goes here\n",
        "X = np.array(\n",
        "    [[2,3,4],[34,5,2],\n",
        "    [34,54,23],[65,24,63]]\n",
        "\n",
        ")\n",
        "X[-2:,-2:]"
      ]
    },
    {
      "cell_type": "code",
      "execution_count": 155,
      "metadata": {
        "cell_type": "solution",
        "id": "VbF_Fcb8vrH5",
        "outputId": "3528d43a-38e6-4e8d-ac3e-05cefc3c31b2",
        "colab": {
          "base_uri": "https://localhost:8080/"
        }
      },
      "outputs": [
        {
          "output_type": "execute_result",
          "data": {
            "text/plain": [
              "array([[11, 12],\n",
              "       [15, 16]])"
            ]
          },
          "metadata": {},
          "execution_count": 155
        }
      ],
      "source": [
        "X = np.array([\n",
        "    [1,   2,  3,  4],\n",
        "    [5,   6,  7,  8],\n",
        "    [9,  10, 11, 12],\n",
        "    [13, 14, 15, 16]\n",
        "])\n",
        "\n",
        "X[2:, 2:]"
      ]
    },
    {
      "cell_type": "markdown",
      "metadata": {
        "id": "1VD-HHIIvrH5"
      },
      "source": [
        "![purple-divider](https://user-images.githubusercontent.com/7065401/52071927-c1cd7100-2562-11e9-908a-dde91ba14e59.png)\n",
        "\n",
        "## Array manipulation\n"
      ]
    },
    {
      "cell_type": "markdown",
      "metadata": {
        "id": "0iGDluWvvrH6"
      },
      "source": [
        "### Convert the given integer numpy array to float"
      ]
    },
    {
      "cell_type": "code",
      "execution_count": 161,
      "metadata": {
        "id": "a5MCvXkKvrH6",
        "outputId": "66b8a71c-cf64-48b7-8baa-a34f52343240",
        "colab": {
          "base_uri": "https://localhost:8080/"
        }
      },
      "outputs": [
        {
          "output_type": "execute_result",
          "data": {
            "text/plain": [
              "array([ 3.,  5., 75., 43.])"
            ]
          },
          "metadata": {},
          "execution_count": 161
        }
      ],
      "source": [
        "# your code goes here\n",
        "X=[3,5,75,43]\n",
        "np.array(X,dtype=float)\n"
      ]
    },
    {
      "cell_type": "code",
      "execution_count": 163,
      "metadata": {
        "cell_type": "solution",
        "id": "zDy7W-VAvrH6",
        "outputId": "44c8b933-b576-46e9-8cbf-672c32e3657d",
        "colab": {
          "base_uri": "https://localhost:8080/"
        }
      },
      "outputs": [
        {
          "output_type": "execute_result",
          "data": {
            "text/plain": [
              "array([-5., -3.,  0., 10., 40.])"
            ]
          },
          "metadata": {},
          "execution_count": 163
        }
      ],
      "source": [
        "X = [-5, -3, 0, 10, 40]\n",
        "\n",
        "np.array(X, float)"
      ]
    },
    {
      "cell_type": "markdown",
      "metadata": {
        "id": "txZaEGpJvrH6"
      },
      "source": [
        "![green-divider](https://user-images.githubusercontent.com/7065401/52071924-c003ad80-2562-11e9-8297-1c6595f8a7ff.png)\n",
        "\n",
        "### Reverse the given numpy array (first element becomes last)"
      ]
    },
    {
      "cell_type": "code",
      "execution_count": 166,
      "metadata": {
        "id": "ZUoGqNPuvrH7",
        "outputId": "852d3de1-1973-4d1b-85e4-1861550f41f1",
        "colab": {
          "base_uri": "https://localhost:8080/"
        }
      },
      "outputs": [
        {
          "output_type": "execute_result",
          "data": {
            "text/plain": [
              "[43, 75, 5, 3]"
            ]
          },
          "metadata": {},
          "execution_count": 166
        }
      ],
      "source": [
        "# your code goes here\n",
        "X=[3,5,75,43]\n",
        "X[::-1]"
      ]
    },
    {
      "cell_type": "code",
      "execution_count": null,
      "metadata": {
        "cell_type": "solution",
        "id": "2PWoc4TZvrH7"
      },
      "outputs": [],
      "source": [
        "X = [-5, -3, 0, 10, 40]\n",
        "\n",
        "X[::-1]"
      ]
    },
    {
      "cell_type": "markdown",
      "metadata": {
        "id": "60G7qjNGvrH8"
      },
      "source": [
        "![green-divider](https://user-images.githubusercontent.com/7065401/52071924-c003ad80-2562-11e9-8297-1c6595f8a7ff.png)\n",
        "\n",
        "### Order (sort) the given numpy array"
      ]
    },
    {
      "cell_type": "code",
      "execution_count": 169,
      "metadata": {
        "id": "uWaSuy68vrH8",
        "outputId": "06bc1fc8-226c-4701-9cff-c5ba6918edd0",
        "colab": {
          "base_uri": "https://localhost:8080/"
        }
      },
      "outputs": [
        {
          "output_type": "execute_result",
          "data": {
            "text/plain": [
              "array([ 3,  5, 19, 43, 75])"
            ]
          },
          "metadata": {},
          "execution_count": 169
        }
      ],
      "source": [
        "# your code goes here\n",
        "X=[3,5,75,43,19]\n",
        "np.sort(X)"
      ]
    },
    {
      "cell_type": "code",
      "execution_count": 168,
      "metadata": {
        "cell_type": "solution",
        "id": "5D_mT0g3vrH8",
        "outputId": "05e8c9ea-a140-4768-d07e-007d3cf2ba8f",
        "colab": {
          "base_uri": "https://localhost:8080/"
        }
      },
      "outputs": [
        {
          "output_type": "execute_result",
          "data": {
            "text/plain": [
              "[-5, -3, 0, 10, 40]"
            ]
          },
          "metadata": {},
          "execution_count": 168
        }
      ],
      "source": [
        "X = [0, 10, -5, 40, -3]\n",
        "\n",
        "X.sort()\n",
        "X"
      ]
    },
    {
      "cell_type": "markdown",
      "metadata": {
        "id": "xN176R9pvrH8"
      },
      "source": [
        "![green-divider](https://user-images.githubusercontent.com/7065401/52071924-c003ad80-2562-11e9-8297-1c6595f8a7ff.png)\n",
        "\n",
        "### Given the X numpy array, set the fifth element equal to 1"
      ]
    },
    {
      "cell_type": "code",
      "execution_count": 172,
      "metadata": {
        "id": "lk8-DdP1vrH8",
        "outputId": "32d8b6d8-e616-4107-de83-62a6ae1a2aec",
        "colab": {
          "base_uri": "https://localhost:8080/"
        }
      },
      "outputs": [
        {
          "output_type": "execute_result",
          "data": {
            "text/plain": [
              "[3, 5, 75, 43, 1]"
            ]
          },
          "metadata": {},
          "execution_count": 172
        }
      ],
      "source": [
        "# your code goes here\n",
        "X=[3,5,75,43,19]\n",
        "X[4] = 1\n",
        "X"
      ]
    },
    {
      "cell_type": "code",
      "execution_count": 173,
      "metadata": {
        "cell_type": "solution",
        "id": "wwvN05o_vrH9",
        "outputId": "f9f1e9da-232a-484e-b9f9-14334239c9da",
        "colab": {
          "base_uri": "https://localhost:8080/"
        }
      },
      "outputs": [
        {
          "output_type": "execute_result",
          "data": {
            "text/plain": [
              "array([0., 0., 0., 0., 1., 0., 0., 0., 0., 0.])"
            ]
          },
          "metadata": {},
          "execution_count": 173
        }
      ],
      "source": [
        "X = np.zeros(10)\n",
        "\n",
        "X[4] = 1\n",
        "X"
      ]
    },
    {
      "cell_type": "markdown",
      "metadata": {
        "id": "HustQ3-MvrH9"
      },
      "source": [
        "![green-divider](https://user-images.githubusercontent.com/7065401/52071924-c003ad80-2562-11e9-8297-1c6595f8a7ff.png)\n",
        "\n",
        "### Given the X numpy array, change the 50 with a 40"
      ]
    },
    {
      "cell_type": "code",
      "execution_count": 195,
      "metadata": {
        "id": "-RvoDEsPvrH9",
        "outputId": "2ca4b098-4552-4163-9eb2-81f9d602eced",
        "colab": {
          "base_uri": "https://localhost:8080/"
        }
      },
      "outputs": [
        {
          "output_type": "execute_result",
          "data": {
            "text/plain": [
              "array([23, 34, 54, 40, 67])"
            ]
          },
          "metadata": {},
          "execution_count": 195
        }
      ],
      "source": [
        "# your code goes here\n",
        "X =np.array ([23,34,54,50,67])\n",
        "# X[X.index(50)] = 40 # for lists\n",
        "X\n",
        "X = np.where(X == 50, 40, X)\n",
        "X"
      ]
    },
    {
      "cell_type": "code",
      "execution_count": null,
      "metadata": {
        "cell_type": "solution",
        "id": "60-vpI9UvrH9"
      },
      "outputs": [],
      "source": [
        "X = np.array([10, 20, 30, 50])\n",
        "\n",
        "X[3] = 40\n",
        "X"
      ]
    },
    {
      "cell_type": "markdown",
      "metadata": {
        "id": "qtavwN9-vrH-"
      },
      "source": [
        "![green-divider](https://user-images.githubusercontent.com/7065401/52071924-c003ad80-2562-11e9-8297-1c6595f8a7ff.png)\n",
        "\n",
        "### Given the X numpy matrix, change the last row with all 1"
      ]
    },
    {
      "cell_type": "code",
      "execution_count": 198,
      "metadata": {
        "id": "s7daklw6vrH-",
        "outputId": "3b121d57-774d-4dce-ab44-2bb56bc19c8b",
        "colab": {
          "base_uri": "https://localhost:8080/"
        }
      },
      "outputs": [
        {
          "output_type": "execute_result",
          "data": {
            "text/plain": [
              "array([[ 2,  3,  4],\n",
              "       [ 4, 53,  6],\n",
              "       [ 1,  1,  1]])"
            ]
          },
          "metadata": {},
          "execution_count": 198
        }
      ],
      "source": [
        "# your code goes here\n",
        "X = np.array([[2,3,4],[4,53,6],[23,5,64]])\n",
        "X\n",
        "X[-1] = 1\n",
        "X"
      ]
    },
    {
      "cell_type": "code",
      "execution_count": null,
      "metadata": {
        "cell_type": "solution",
        "id": "-MM1_v--vrH-"
      },
      "outputs": [],
      "source": [
        "X = np.array([\n",
        "    [1,   2,  3,  4],\n",
        "    [5,   6,  7,  8],\n",
        "    [9,  10, 11, 12],\n",
        "    [13, 14, 15, 16]\n",
        "])\n",
        "\n",
        "X[-1] = np.array([1, 1, 1, 1])\n",
        "X"
      ]
    },
    {
      "cell_type": "markdown",
      "metadata": {
        "id": "BC_oIavZvrH-"
      },
      "source": [
        "![green-divider](https://user-images.githubusercontent.com/7065401/52071924-c003ad80-2562-11e9-8297-1c6595f8a7ff.png)\n",
        "\n",
        "### Given the X numpy matrix, change the last item on the last row with a 0"
      ]
    },
    {
      "cell_type": "code",
      "execution_count": 205,
      "metadata": {
        "id": "BbK0d0KGvrH_",
        "outputId": "b3b87655-477e-46fc-884e-78e0e0b3a9d6",
        "colab": {
          "base_uri": "https://localhost:8080/"
        }
      },
      "outputs": [
        {
          "output_type": "execute_result",
          "data": {
            "text/plain": [
              "array([[ 2,  3,  4],\n",
              "       [ 4, 53,  6],\n",
              "       [23,  5,  0]])"
            ]
          },
          "metadata": {},
          "execution_count": 205
        }
      ],
      "source": [
        "# your code goes here\n",
        "X = np.array([[2,3,4],[4,53,6],[23,5,64]])\n",
        "# X[1:] = 0 # the last 2 rows to 0\n",
        "X[-1,-1] = 0\n",
        "X"
      ]
    },
    {
      "cell_type": "code",
      "execution_count": 202,
      "metadata": {
        "cell_type": "solution",
        "id": "dt_DCgRivrH_",
        "outputId": "be7f118b-ebee-4148-a279-a1b1de9de8f3",
        "colab": {
          "base_uri": "https://localhost:8080/"
        }
      },
      "outputs": [
        {
          "output_type": "execute_result",
          "data": {
            "text/plain": [
              "array([[ 1,  2,  3,  4],\n",
              "       [ 5,  6,  7,  8],\n",
              "       [ 9, 10, 11, 12],\n",
              "       [13, 14, 15,  0]])"
            ]
          },
          "metadata": {},
          "execution_count": 202
        }
      ],
      "source": [
        "X = np.array([\n",
        "    [1,   2,  3,  4],\n",
        "    [5,   6,  7,  8],\n",
        "    [9,  10, 11, 12],\n",
        "    [13, 14, 15, 16]\n",
        "])\n",
        "\n",
        "X[-1, -1] = 0\n",
        "X"
      ]
    },
    {
      "cell_type": "markdown",
      "metadata": {
        "id": "tbiNSougvrH_"
      },
      "source": [
        "![green-divider](https://user-images.githubusercontent.com/7065401/52071924-c003ad80-2562-11e9-8297-1c6595f8a7ff.png)\n",
        "\n",
        "### Given the X numpy matrix, add 5 to every element"
      ]
    },
    {
      "cell_type": "code",
      "execution_count": 206,
      "metadata": {
        "id": "WWx_DiylvrIA",
        "outputId": "2e368954-2025-4380-a398-dcffabfee7b1",
        "colab": {
          "base_uri": "https://localhost:8080/"
        }
      },
      "outputs": [
        {
          "output_type": "execute_result",
          "data": {
            "text/plain": [
              "array([[ 7,  8,  9],\n",
              "       [ 9, 58, 11],\n",
              "       [28, 10, 69]])"
            ]
          },
          "metadata": {},
          "execution_count": 206
        }
      ],
      "source": [
        "# your code goes here\n",
        "X = np.array([[2,3,4],[4,53,6],[23,5,64]])\n",
        "X +=5\n",
        "X"
      ]
    },
    {
      "cell_type": "code",
      "execution_count": 207,
      "metadata": {
        "cell_type": "solution",
        "id": "k1S17xM3vrIA",
        "outputId": "131f7e4c-3ede-4098-e85b-cb38924a80bc",
        "colab": {
          "base_uri": "https://localhost:8080/"
        }
      },
      "outputs": [
        {
          "output_type": "execute_result",
          "data": {
            "text/plain": [
              "array([[ 6,  7,  8,  9],\n",
              "       [10, 11, 12, 13],\n",
              "       [14, 15, 16, 17],\n",
              "       [18, 19, 20, 21]])"
            ]
          },
          "metadata": {},
          "execution_count": 207
        }
      ],
      "source": [
        "X = np.array([\n",
        "    [1,   2,  3,  4],\n",
        "    [5,   6,  7,  8],\n",
        "    [9,  10, 11, 12],\n",
        "    [13, 14, 15, 16]\n",
        "])\n",
        "\n",
        "X + 5"
      ]
    },
    {
      "cell_type": "markdown",
      "metadata": {
        "id": "pp1GQKKTvrIA"
      },
      "source": [
        "![purple-divider](https://user-images.githubusercontent.com/7065401/52071927-c1cd7100-2562-11e9-908a-dde91ba14e59.png)\n",
        "\n",
        "## Boolean arrays _(also called masks)_\n"
      ]
    },
    {
      "cell_type": "markdown",
      "metadata": {
        "id": "9PVj_mbyvrIB"
      },
      "source": [
        "### Given the X numpy array, make a mask showing negative elements"
      ]
    },
    {
      "cell_type": "code",
      "execution_count": 211,
      "metadata": {
        "id": "baxof8T4vrIC",
        "outputId": "ede66b36-5d72-43cf-a042-a22be7b4c2c6",
        "colab": {
          "base_uri": "https://localhost:8080/"
        }
      },
      "outputs": [
        {
          "output_type": "execute_result",
          "data": {
            "text/plain": [
              "array([ -1,  -4, -87,  -3,  -6])"
            ]
          },
          "metadata": {},
          "execution_count": 211
        }
      ],
      "source": [
        "# your code goes here\n",
        "X= np.array([-1,6,-4,2,37,-87,-3,-6])\n",
        "mask = X <=0\n",
        "mask\n"
      ]
    },
    {
      "cell_type": "code",
      "execution_count": null,
      "metadata": {
        "cell_type": "solution",
        "id": "Wv_4-wG3vrIC"
      },
      "outputs": [],
      "source": [
        "X = np.array([-1,2,0,-4,5,6,0,0,-9,10])\n",
        "\n",
        "mask = X <= 0\n",
        "mask"
      ]
    },
    {
      "cell_type": "markdown",
      "metadata": {
        "id": "Ozv4PxQQvrIF"
      },
      "source": [
        "![green-divider](https://user-images.githubusercontent.com/7065401/52071924-c003ad80-2562-11e9-8297-1c6595f8a7ff.png)\n",
        "\n",
        "### Given the X numpy array, get the negative elements"
      ]
    },
    {
      "cell_type": "code",
      "execution_count": 212,
      "metadata": {
        "id": "IZH9B09uvrIG",
        "outputId": "af6e2b1d-f420-49e4-cb03-12dc7ebe1389",
        "colab": {
          "base_uri": "https://localhost:8080/"
        }
      },
      "outputs": [
        {
          "output_type": "execute_result",
          "data": {
            "text/plain": [
              "array([ -1,  -4, -87,  -3,  -6])"
            ]
          },
          "metadata": {},
          "execution_count": 212
        }
      ],
      "source": [
        "# your code goes here\n",
        "X[mask]"
      ]
    },
    {
      "cell_type": "code",
      "execution_count": null,
      "metadata": {
        "cell_type": "solution",
        "id": "yk88t35CvrIH"
      },
      "outputs": [],
      "source": [
        "X = np.array([-1, 2, 0, -4, 5, 6, 0, 0, -9, 10])\n",
        "\n",
        "mask = X <= 0\n",
        "X[mask]"
      ]
    },
    {
      "cell_type": "markdown",
      "metadata": {
        "id": "v2nCy0EwvrIH"
      },
      "source": [
        "![green-divider](https://user-images.githubusercontent.com/7065401/52071924-c003ad80-2562-11e9-8297-1c6595f8a7ff.png)\n",
        "\n",
        "### Given the X numpy array, get numbers higher than 5"
      ]
    },
    {
      "cell_type": "code",
      "execution_count": 216,
      "metadata": {
        "id": "nzu89Gs_vrII",
        "outputId": "b2afd1a1-17bf-47f8-8766-d3350c4e7e79",
        "colab": {
          "base_uri": "https://localhost:8080/"
        }
      },
      "outputs": [
        {
          "output_type": "execute_result",
          "data": {
            "text/plain": [
              "array([ 6, 37, 23, 87, 90])"
            ]
          },
          "metadata": {},
          "execution_count": 216
        }
      ],
      "source": [
        "# your code goes here\n",
        "X= np.array([-1,6,-4,2,37,-87,-3,-6,5,23,2,3,87,90])\n",
        "X[X >5]"
      ]
    },
    {
      "cell_type": "code",
      "execution_count": null,
      "metadata": {
        "cell_type": "solution",
        "id": "xaWyIe1RvrIJ"
      },
      "outputs": [],
      "source": [
        "X = np.array([-1, 2, 0, -4, 5, 6, 0, 0, -9, 10])\n",
        "\n",
        "mask = X > 5\n",
        "X[mask]"
      ]
    },
    {
      "cell_type": "markdown",
      "metadata": {
        "id": "_PzDd6JtvrIJ"
      },
      "source": [
        "![green-divider](https://user-images.githubusercontent.com/7065401/52071924-c003ad80-2562-11e9-8297-1c6595f8a7ff.png)\n",
        "\n",
        "### Given the X numpy array, get numbers higher than the elements mean"
      ]
    },
    {
      "cell_type": "code",
      "execution_count": 221,
      "metadata": {
        "id": "LoLeewSgvrIJ",
        "outputId": "62baf665-c7a8-4bb8-b184-6350b4b70251",
        "colab": {
          "base_uri": "https://localhost:8080/"
        }
      },
      "outputs": [
        {
          "output_type": "execute_result",
          "data": {
            "text/plain": [
              "array([12, 37, 23, 87, 90])"
            ]
          },
          "metadata": {},
          "execution_count": 221
        }
      ],
      "source": [
        "# your code goes here\n",
        "X= np.array([-1,6,-4,2,12,37,-87,-3,-6,5,23,2,3,87,90])\n",
        "X[X>np.mean(X)]\n"
      ]
    },
    {
      "cell_type": "code",
      "execution_count": null,
      "metadata": {
        "cell_type": "solution",
        "id": "9F6pYRrKvrIJ"
      },
      "outputs": [],
      "source": [
        "X = np.array([-1, 2, 0, -4, 5, 6, 0, 0, -9, 10])\n",
        "\n",
        "mask = X > X.mean()\n",
        "X[mask]"
      ]
    },
    {
      "cell_type": "markdown",
      "metadata": {
        "id": "1isroW51vrIK"
      },
      "source": [
        "![green-divider](https://user-images.githubusercontent.com/7065401/52071924-c003ad80-2562-11e9-8297-1c6595f8a7ff.png)\n",
        "\n",
        "### Given the X numpy array, get numbers equal to 2 or 10"
      ]
    },
    {
      "cell_type": "code",
      "execution_count": 229,
      "metadata": {
        "id": "v01zY2NOvrIK",
        "outputId": "1c4a1b71-e73d-4d96-f762-4901a4c1a5e8",
        "colab": {
          "base_uri": "https://localhost:8080/"
        }
      },
      "outputs": [
        {
          "output_type": "execute_result",
          "data": {
            "text/plain": [
              "array([ 2, 10])"
            ]
          },
          "metadata": {},
          "execution_count": 229
        }
      ],
      "source": [
        "# your code goes here\n",
        "X = np.array([-1, 2, 0, -4, 5, 6, 0, 0, -9, 10])\n",
        "X[(X ==2) | (X == 10)]"
      ]
    },
    {
      "cell_type": "code",
      "execution_count": 230,
      "metadata": {
        "cell_type": "solution",
        "scrolled": true,
        "id": "I_zN97envrIK",
        "outputId": "56d55674-ed78-4813-c7ea-c127e13dea8e",
        "colab": {
          "base_uri": "https://localhost:8080/"
        }
      },
      "outputs": [
        {
          "output_type": "execute_result",
          "data": {
            "text/plain": [
              "array([ 2, 10])"
            ]
          },
          "metadata": {},
          "execution_count": 230
        }
      ],
      "source": [
        "X = np.array([-1, 2, 0, -4, 5, 6, 0, 0, -9, 10])\n",
        "\n",
        "mask = (X == 2) | (X == 10)\n",
        "X[mask]"
      ]
    },
    {
      "cell_type": "markdown",
      "metadata": {
        "id": "ZoExzl8jvrIL"
      },
      "source": [
        "![purple-divider](https://user-images.githubusercontent.com/7065401/52071927-c1cd7100-2562-11e9-908a-dde91ba14e59.png)\n",
        "\n",
        "## Logic functions\n"
      ]
    },
    {
      "cell_type": "markdown",
      "metadata": {
        "id": "I3Mr76a5vrIL"
      },
      "source": [
        "### Given the X numpy array, return True if none of its elements is zero"
      ]
    },
    {
      "cell_type": "code",
      "execution_count": 232,
      "metadata": {
        "id": "GSlLqyqRvrIL",
        "outputId": "e61b251b-fd2b-4427-a9a8-6360cd0dd815",
        "colab": {
          "base_uri": "https://localhost:8080/"
        }
      },
      "outputs": [
        {
          "output_type": "execute_result",
          "data": {
            "text/plain": [
              "np.True_"
            ]
          },
          "metadata": {},
          "execution_count": 232
        }
      ],
      "source": [
        "# your code goes here\n",
        "X = np.array([-1, 2, 10])\n",
        "X.all()"
      ]
    },
    {
      "cell_type": "code",
      "execution_count": null,
      "metadata": {
        "cell_type": "solution",
        "id": "dEIR1QNUvrIM"
      },
      "outputs": [],
      "source": [
        "X = np.array([-1, 2, 0, -4, 5, 6, 0, 0, -9, 10])\n",
        "\n",
        "X.all()"
      ]
    },
    {
      "cell_type": "markdown",
      "metadata": {
        "id": "7RuA7Fn2vrIM"
      },
      "source": [
        "![green-divider](https://user-images.githubusercontent.com/7065401/52071924-c003ad80-2562-11e9-8297-1c6595f8a7ff.png)\n",
        "\n",
        "### Given the X numpy array, return True if any of its elements is zero"
      ]
    },
    {
      "cell_type": "code",
      "execution_count": 241,
      "metadata": {
        "id": "17we7pApvrIN",
        "outputId": "b4e36409-f559-4983-85e0-6c939efef7d4",
        "colab": {
          "base_uri": "https://localhost:8080/"
        }
      },
      "outputs": [
        {
          "output_type": "execute_result",
          "data": {
            "text/plain": [
              "np.True_"
            ]
          },
          "metadata": {},
          "execution_count": 241
        }
      ],
      "source": [
        "# your code goes here\n",
        "X = np.array([-1, 2, 11,0,0])\n",
        "X.any()"
      ]
    },
    {
      "cell_type": "code",
      "execution_count": 239,
      "metadata": {
        "cell_type": "solution",
        "id": "PI5Mj7muvrIN",
        "outputId": "06618b84-7e80-49a3-a73c-660f105936d5",
        "colab": {
          "base_uri": "https://localhost:8080/"
        }
      },
      "outputs": [
        {
          "output_type": "execute_result",
          "data": {
            "text/plain": [
              "np.True_"
            ]
          },
          "metadata": {},
          "execution_count": 239
        }
      ],
      "source": [
        "X = np.array([-1, 2, 0, -4, 5, 6, 0, 0, -9, 10])\n",
        "\n",
        "X.any()"
      ]
    },
    {
      "cell_type": "markdown",
      "metadata": {
        "id": "jhGLmQWmvrIN"
      },
      "source": [
        "![purple-divider](https://user-images.githubusercontent.com/7065401/52071927-c1cd7100-2562-11e9-908a-dde91ba14e59.png)\n",
        "\n",
        "## Summary statistics"
      ]
    },
    {
      "cell_type": "markdown",
      "metadata": {
        "id": "o9BSgfnZvrIN"
      },
      "source": [
        "### Given the X numpy array, show the sum of its elements"
      ]
    },
    {
      "cell_type": "code",
      "execution_count": 242,
      "metadata": {
        "id": "KKCfgA76vrIN",
        "outputId": "731cf6d8-34e4-42bb-b499-72f4c39f27dc",
        "colab": {
          "base_uri": "https://localhost:8080/"
        }
      },
      "outputs": [
        {
          "output_type": "execute_result",
          "data": {
            "text/plain": [
              "np.int64(19)"
            ]
          },
          "metadata": {},
          "execution_count": 242
        }
      ],
      "source": [
        "# your code goes here\n",
        "X = np.array([4,3,6,2,4])\n",
        "X.sum()"
      ]
    },
    {
      "cell_type": "code",
      "execution_count": null,
      "metadata": {
        "cell_type": "solution",
        "id": "LFSKDolSvrIO"
      },
      "outputs": [],
      "source": [
        "X = np.array([3, 5, 6, 7, 2, 3, 4, 9, 4])\n",
        "\n",
        "#np.sum(X)\n",
        "X.sum()"
      ]
    },
    {
      "cell_type": "markdown",
      "metadata": {
        "id": "j0ZlaHL8vrIO"
      },
      "source": [
        "![green-divider](https://user-images.githubusercontent.com/7065401/52071924-c003ad80-2562-11e9-8297-1c6595f8a7ff.png)\n",
        "\n",
        "### Given the X numpy array, show the mean value of its elements"
      ]
    },
    {
      "cell_type": "code",
      "execution_count": 243,
      "metadata": {
        "id": "GKyRIg1lvrIP",
        "outputId": "e9fcbc60-cf1e-4bca-fd09-32eb8d7021dc",
        "colab": {
          "base_uri": "https://localhost:8080/"
        }
      },
      "outputs": [
        {
          "output_type": "execute_result",
          "data": {
            "text/plain": [
              "np.float64(3.8)"
            ]
          },
          "metadata": {},
          "execution_count": 243
        }
      ],
      "source": [
        "# your code goes here\n",
        "X = np.array([4,3,6,2,4])\n",
        "X.mean()"
      ]
    },
    {
      "cell_type": "code",
      "execution_count": null,
      "metadata": {
        "cell_type": "solution",
        "id": "S0UXx74bvrIP"
      },
      "outputs": [],
      "source": [
        "X = np.array([1, 2, 0, 4, 5, 6, 0, 0, 9, 10])\n",
        "\n",
        "#np.mean(X)\n",
        "X.mean()"
      ]
    },
    {
      "cell_type": "markdown",
      "metadata": {
        "id": "yeksBiXxvrIP"
      },
      "source": [
        "![green-divider](https://user-images.githubusercontent.com/7065401/52071924-c003ad80-2562-11e9-8297-1c6595f8a7ff.png)\n",
        "\n",
        "### Given the X numpy matrix, show the sum of its columns"
      ]
    },
    {
      "cell_type": "code",
      "execution_count": 247,
      "metadata": {
        "id": "Oq0YY1idvrIQ",
        "outputId": "46505ba2-3a9f-4bd2-f15c-329b30e32259",
        "colab": {
          "base_uri": "https://localhost:8080/"
        }
      },
      "outputs": [
        {
          "output_type": "execute_result",
          "data": {
            "text/plain": [
              "array([12, 15, 18])"
            ]
          },
          "metadata": {},
          "execution_count": 247
        }
      ],
      "source": [
        "# your code goes here\n",
        "x= np.array([[1,2,3],[4,5,6],[7,8,9]])\n",
        "x.sum(axis =0)"
      ]
    },
    {
      "cell_type": "code",
      "execution_count": null,
      "metadata": {
        "cell_type": "solution",
        "id": "qQ8hHUhzvrIQ"
      },
      "outputs": [],
      "source": [
        "X = np.array([\n",
        "    [1,   2,  3,  4],\n",
        "    [5,   6,  7,  8],\n",
        "    [9,  10, 11, 12],\n",
        "    [13, 14, 15, 16]\n",
        "])\n",
        "\n",
        "X.sum(axis=0) # remember: axis=0 columns; axis=1 rows"
      ]
    },
    {
      "cell_type": "markdown",
      "metadata": {
        "id": "MUSgrh4pvrIQ"
      },
      "source": [
        "![green-divider](https://user-images.githubusercontent.com/7065401/52071924-c003ad80-2562-11e9-8297-1c6595f8a7ff.png)\n",
        "\n",
        "### Given the X numpy matrix, show the mean value of its rows"
      ]
    },
    {
      "cell_type": "code",
      "execution_count": 248,
      "metadata": {
        "id": "f_WWFZXfvrIR",
        "outputId": "82bf0998-d5c8-4535-ef05-f149b66b3a83",
        "colab": {
          "base_uri": "https://localhost:8080/"
        }
      },
      "outputs": [
        {
          "output_type": "execute_result",
          "data": {
            "text/plain": [
              "array([2., 5., 8.])"
            ]
          },
          "metadata": {},
          "execution_count": 248
        }
      ],
      "source": [
        "# your code goes here\n",
        "x= np.array([[1,2,3],[4,5,6],[7,8,9]])\n",
        "x.mean(axis =1)"
      ]
    },
    {
      "cell_type": "code",
      "execution_count": null,
      "metadata": {
        "cell_type": "solution",
        "id": "VvOOHCJivrIR"
      },
      "outputs": [],
      "source": [
        "X = np.array([\n",
        "    [1,   2,  3,  4],\n",
        "    [5,   6,  7,  8],\n",
        "    [9,  10, 11, 12],\n",
        "    [13, 14, 15, 16]\n",
        "])\n",
        "\n",
        "X.mean(axis=1) # remember: axis=0 columns; axis=1 rows"
      ]
    },
    {
      "cell_type": "markdown",
      "metadata": {
        "id": "yytZUfn4vrIR"
      },
      "source": [
        "![green-divider](https://user-images.githubusercontent.com/7065401/52071924-c003ad80-2562-11e9-8297-1c6595f8a7ff.png)\n",
        "\n",
        "### Given the X numpy array, show the max value of its elements"
      ]
    },
    {
      "cell_type": "code",
      "execution_count": 251,
      "metadata": {
        "id": "Clxb-otIvrIR",
        "outputId": "3a9fe69f-e080-4c87-d6bf-62315463ebbc",
        "colab": {
          "base_uri": "https://localhost:8080/"
        }
      },
      "outputs": [
        {
          "output_type": "execute_result",
          "data": {
            "text/plain": [
              "np.int64(9)"
            ]
          },
          "metadata": {},
          "execution_count": 251
        }
      ],
      "source": [
        "# your code goes here\n",
        "x= np.array([[1,2,3],[4,5,6],[7,8,9]])\n",
        "x.max()\n"
      ]
    },
    {
      "cell_type": "code",
      "execution_count": null,
      "metadata": {
        "cell_type": "solution",
        "id": "0CEdO7I-vrIS"
      },
      "outputs": [],
      "source": [
        "X = np.array([1, 2, 0, 4, 5, 6, 0, 0, 9, 10])\n",
        "\n",
        "#np.max(X)\n",
        "X.max()"
      ]
    },
    {
      "cell_type": "markdown",
      "metadata": {
        "id": "o6MaECWQvrIS"
      },
      "source": [
        "![purple-divider](https://user-images.githubusercontent.com/7065401/52071927-c1cd7100-2562-11e9-908a-dde91ba14e59.png)"
      ]
    }
  ],
  "metadata": {
    "kernelspec": {
      "display_name": "Python 3",
      "language": "python",
      "name": "python3"
    },
    "language_info": {
      "codemirror_mode": {
        "name": "ipython",
        "version": 3
      },
      "file_extension": ".py",
      "mimetype": "text/x-python",
      "name": "python",
      "nbconvert_exporter": "python",
      "pygments_lexer": "ipython3",
      "version": "3.8.1"
    },
    "colab": {
      "provenance": [],
      "include_colab_link": true
    }
  },
  "nbformat": 4,
  "nbformat_minor": 0
}